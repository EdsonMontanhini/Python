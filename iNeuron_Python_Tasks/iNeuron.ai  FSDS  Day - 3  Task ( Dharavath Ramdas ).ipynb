{
 "cells": [
  {
   "cell_type": "code",
   "execution_count": null,
   "id": "c1d2a8b2",
   "metadata": {},
   "outputs": [],
   "source": [
    "#Questions\n",
    "l = [3,4,5,6,7 , [23,456,67,8,78,78],[345,56,87,8,98,9],(234,6657,6),{\"key1\" :1 . Try to reverse a list\n",
    "2. try to access 234 out of this list\n",
    "3 . try to access 456\n",
    "4 . Try to extract only a list collection form list l\n",
    "5 . Try to extract \"sudh\"\n",
    "6 . Try to list all the key in dict element avaible in list\n",
    "7 . Try to extract all the value element form dict available in list"
   ]
  },
  {
   "cell_type": "code",
   "execution_count": 1,
   "id": "8c7cf7a7",
   "metadata": {},
   "outputs": [],
   "source": [
    "l = [3,4,5,6,7,[23,456,76,8,78,78],[345,56,87,8,98,9],(234,6657,6), {'key1':'sudh',234:[1,2,3,\"vinayak\"]}]"
   ]
  },
  {
   "cell_type": "code",
   "execution_count": 2,
   "id": "bff16c40",
   "metadata": {},
   "outputs": [
    {
     "data": {
      "text/plain": [
       "[3,\n",
       " 4,\n",
       " 5,\n",
       " 6,\n",
       " 7,\n",
       " [23, 456, 76, 8, 78, 78],\n",
       " [345, 56, 87, 8, 98, 9],\n",
       " (234, 6657, 6),\n",
       " {'key1': 'sudh', 234: [1, 2, 3, 'vinayak']}]"
      ]
     },
     "execution_count": 2,
     "metadata": {},
     "output_type": "execute_result"
    }
   ],
   "source": [
    "l"
   ]
  },
  {
   "cell_type": "markdown",
   "id": "95d6e72d",
   "metadata": {},
   "source": [
    "# 1 . Try to reverse a list"
   ]
  },
  {
   "cell_type": "code",
   "execution_count": 3,
   "id": "e435fcf9",
   "metadata": {},
   "outputs": [
    {
     "data": {
      "text/plain": [
       "[3,\n",
       " 4,\n",
       " 5,\n",
       " 6,\n",
       " 7,\n",
       " [23, 456, 76, 8, 78, 78],\n",
       " [345, 56, 87, 8, 98, 9],\n",
       " (234, 6657, 6),\n",
       " {'key1': 'sudh', 234: [1, 2, 3, 'vinayak']}]"
      ]
     },
     "execution_count": 3,
     "metadata": {},
     "output_type": "execute_result"
    }
   ],
   "source": [
    "l"
   ]
  },
  {
   "cell_type": "code",
   "execution_count": 6,
   "id": "3d890b5d",
   "metadata": {},
   "outputs": [
    {
     "data": {
      "text/plain": [
       "[3,\n",
       " 4,\n",
       " 5,\n",
       " 6,\n",
       " 7,\n",
       " [23, 456, 76, 8, 78, 78],\n",
       " [345, 56, 87, 8, 98, 9],\n",
       " (234, 6657, 6),\n",
       " {'key1': 'sudh', 234: [1, 2, 3, 'vinayak']}]"
      ]
     },
     "execution_count": 6,
     "metadata": {},
     "output_type": "execute_result"
    }
   ],
   "source": [
    "# reverse list using slicing\n",
    "l[::-1]"
   ]
  },
  {
   "cell_type": "code",
   "execution_count": 5,
   "id": "22a29fef",
   "metadata": {},
   "outputs": [
    {
     "data": {
      "text/plain": [
       "[{'key1': 'sudh', 234: [1, 2, 3, 'vinayak']},\n",
       " (234, 6657, 6),\n",
       " [345, 56, 87, 8, 98, 9],\n",
       " [23, 456, 76, 8, 78, 78],\n",
       " 7,\n",
       " 6,\n",
       " 5,\n",
       " 4,\n",
       " 3]"
      ]
     },
     "execution_count": 5,
     "metadata": {},
     "output_type": "execute_result"
    }
   ],
   "source": [
    "# reverse list using list method reverse\n",
    "l.reverse()\n",
    "l"
   ]
  },
  {
   "cell_type": "markdown",
   "id": "df90622d",
   "metadata": {},
   "source": [
    "# 2. try to access 234 out of this list"
   ]
  },
  {
   "cell_type": "code",
   "execution_count": 8,
   "id": "dc37e5a1",
   "metadata": {},
   "outputs": [
    {
     "data": {
      "text/plain": [
       "[3,\n",
       " 4,\n",
       " 5,\n",
       " 6,\n",
       " 7,\n",
       " [23, 456, 76, 8, 78, 78],\n",
       " [345, 56, 87, 8, 98, 9],\n",
       " (234, 6657, 6),\n",
       " {'key1': 'sudh', 234: [1, 2, 3, 'vinayak']}]"
      ]
     },
     "execution_count": 8,
     "metadata": {},
     "output_type": "execute_result"
    }
   ],
   "source": [
    "l"
   ]
  },
  {
   "cell_type": "code",
   "execution_count": 10,
   "id": "e02d5359",
   "metadata": {},
   "outputs": [
    {
     "data": {
      "text/plain": [
       "234"
      ]
     },
     "execution_count": 10,
     "metadata": {},
     "output_type": "execute_result"
    }
   ],
   "source": [
    "l[7][0]"
   ]
  },
  {
   "cell_type": "code",
   "execution_count": 14,
   "id": "5898003b",
   "metadata": {},
   "outputs": [
    {
     "data": {
      "text/plain": [
       "234"
      ]
     },
     "execution_count": 14,
     "metadata": {},
     "output_type": "execute_result"
    }
   ],
   "source": [
    "list(l[8].keys())[1]"
   ]
  },
  {
   "cell_type": "markdown",
   "id": "807bcc92",
   "metadata": {},
   "source": [
    "# 3 . try to access 456"
   ]
  },
  {
   "cell_type": "code",
   "execution_count": 10,
   "id": "4f6eda41",
   "metadata": {},
   "outputs": [
    {
     "data": {
      "text/plain": [
       "[3,\n",
       " 4,\n",
       " 5,\n",
       " 6,\n",
       " 7,\n",
       " [23, 456, 76, 8, 78, 78],\n",
       " [345, 56, 87, 8, 98, 9],\n",
       " (234, 6657, 6),\n",
       " {'key1': 'sudh', 234: [1, 2, 3, 'vinayak']}]"
      ]
     },
     "execution_count": 10,
     "metadata": {},
     "output_type": "execute_result"
    }
   ],
   "source": [
    "l"
   ]
  },
  {
   "cell_type": "code",
   "execution_count": 12,
   "id": "fa20a944",
   "metadata": {},
   "outputs": [
    {
     "data": {
      "text/plain": [
       "456"
      ]
     },
     "execution_count": 12,
     "metadata": {},
     "output_type": "execute_result"
    }
   ],
   "source": [
    "l[5][1]"
   ]
  },
  {
   "cell_type": "markdown",
   "id": "05f87b58",
   "metadata": {},
   "source": [
    "# 4 . Try to extract only a list collection form list l"
   ]
  },
  {
   "cell_type": "code",
   "execution_count": 13,
   "id": "2e16419f",
   "metadata": {},
   "outputs": [
    {
     "data": {
      "text/plain": [
       "[3,\n",
       " 4,\n",
       " 5,\n",
       " 6,\n",
       " 7,\n",
       " [23, 456, 76, 8, 78, 78],\n",
       " [345, 56, 87, 8, 98, 9],\n",
       " (234, 6657, 6),\n",
       " {'key1': 'sudh', 234: [1, 2, 3, 'vinayak']}]"
      ]
     },
     "execution_count": 13,
     "metadata": {},
     "output_type": "execute_result"
    }
   ],
   "source": [
    "l"
   ]
  },
  {
   "cell_type": "code",
   "execution_count": 14,
   "id": "4a1fe18e",
   "metadata": {},
   "outputs": [
    {
     "data": {
      "text/plain": [
       "[[23, 456, 76, 8, 78, 78], [345, 56, 87, 8, 98, 9]]"
      ]
     },
     "execution_count": 14,
     "metadata": {},
     "output_type": "execute_result"
    }
   ],
   "source": [
    "l[5:7]"
   ]
  },
  {
   "cell_type": "markdown",
   "id": "3ffe93dd",
   "metadata": {},
   "source": [
    "# 5 . Try to extract \"sudh\""
   ]
  },
  {
   "cell_type": "code",
   "execution_count": 15,
   "id": "7c7e5753",
   "metadata": {},
   "outputs": [
    {
     "data": {
      "text/plain": [
       "[3,\n",
       " 4,\n",
       " 5,\n",
       " 6,\n",
       " 7,\n",
       " [23, 456, 76, 8, 78, 78],\n",
       " [345, 56, 87, 8, 98, 9],\n",
       " (234, 6657, 6),\n",
       " {'key1': 'sudh', 234: [1, 2, 3, 'vinayak']}]"
      ]
     },
     "execution_count": 15,
     "metadata": {},
     "output_type": "execute_result"
    }
   ],
   "source": [
    "l"
   ]
  },
  {
   "cell_type": "code",
   "execution_count": 16,
   "id": "8f607560",
   "metadata": {},
   "outputs": [
    {
     "data": {
      "text/plain": [
       "'sudh'"
      ]
     },
     "execution_count": 16,
     "metadata": {},
     "output_type": "execute_result"
    }
   ],
   "source": [
    "l[-1]['key1']"
   ]
  },
  {
   "cell_type": "markdown",
   "id": "4b7a4f71",
   "metadata": {},
   "source": [
    "# 6 . Try to list all the key in dict element avaible in list"
   ]
  },
  {
   "cell_type": "code",
   "execution_count": 22,
   "id": "d66a6643",
   "metadata": {},
   "outputs": [
    {
     "data": {
      "text/plain": [
       "dict_keys(['key1', 234])"
      ]
     },
     "execution_count": 22,
     "metadata": {},
     "output_type": "execute_result"
    }
   ],
   "source": [
    "l2 = l[-1].keys()\n",
    "l2"
   ]
  },
  {
   "cell_type": "code",
   "execution_count": 23,
   "id": "3b68ffbe",
   "metadata": {},
   "outputs": [],
   "source": [
    "l3 = list(l2)"
   ]
  },
  {
   "cell_type": "code",
   "execution_count": 24,
   "id": "f14e367a",
   "metadata": {},
   "outputs": [
    {
     "data": {
      "text/plain": [
       "['key1', 234]"
      ]
     },
     "execution_count": 24,
     "metadata": {},
     "output_type": "execute_result"
    }
   ],
   "source": [
    "l3"
   ]
  },
  {
   "cell_type": "markdown",
   "id": "487d5de6",
   "metadata": {},
   "source": [
    "# 7 . Try to extract all the value element form dict available in list"
   ]
  },
  {
   "cell_type": "code",
   "execution_count": 25,
   "id": "33b0511e",
   "metadata": {},
   "outputs": [
    {
     "data": {
      "text/plain": [
       "[3,\n",
       " 4,\n",
       " 5,\n",
       " 6,\n",
       " 7,\n",
       " [23, 456, 76, 8, 78, 78],\n",
       " [345, 56, 87, 8, 98, 9],\n",
       " (234, 6657, 6),\n",
       " {'key1': 'sudh', 234: [1, 2, 3, 'vinayak']}]"
      ]
     },
     "execution_count": 25,
     "metadata": {},
     "output_type": "execute_result"
    }
   ],
   "source": [
    "l"
   ]
  },
  {
   "cell_type": "code",
   "execution_count": 27,
   "id": "e9f546d1",
   "metadata": {},
   "outputs": [
    {
     "data": {
      "text/plain": [
       "dict_values(['sudh', [1, 2, 3, 'vinayak']])"
      ]
     },
     "execution_count": 27,
     "metadata": {},
     "output_type": "execute_result"
    }
   ],
   "source": [
    "l4 = l[-1].values()\n",
    "l4"
   ]
  },
  {
   "cell_type": "code",
   "execution_count": 28,
   "id": "9daaa930",
   "metadata": {},
   "outputs": [],
   "source": [
    "l5 = list(l4)"
   ]
  },
  {
   "cell_type": "code",
   "execution_count": 29,
   "id": "8b212045",
   "metadata": {},
   "outputs": [
    {
     "data": {
      "text/plain": [
       "['sudh', [1, 2, 3, 'vinayak']]"
      ]
     },
     "execution_count": 29,
     "metadata": {},
     "output_type": "execute_result"
    }
   ],
   "source": [
    "l5"
   ]
  },
  {
   "cell_type": "code",
   "execution_count": null,
   "id": "f9a4c81f",
   "metadata": {},
   "outputs": [],
   "source": []
  },
  {
   "cell_type": "code",
   "execution_count": 14,
   "id": "4431c741",
   "metadata": {},
   "outputs": [],
   "source": [
    "## first occurence of word in string\n",
    "# example: \"addbc\"  output: \"d\""
   ]
  },
  {
   "cell_type": "code",
   "execution_count": 24,
   "id": "e9272562",
   "metadata": {},
   "outputs": [
    {
     "name": "stdout",
     "output_type": "stream",
     "text": [
      "character :  a index : 0 first repeated character\n"
     ]
    }
   ],
   "source": [
    "s = \"addbca\"\n",
    "re = \"\"\n",
    "l=[]\n",
    "for i in set(s):\n",
    "    if s.count(i) > 1:\n",
    "        re = re + i\n",
    "        for j in re:\n",
    "            l.append(s.index(j))\n",
    "            l.sort()\n",
    "            \n",
    "print(\"character : \",s[l[0]],\"index :\",l[0],'first repeated character')"
   ]
  },
  {
   "cell_type": "code",
   "execution_count": null,
   "id": "21fbd539",
   "metadata": {},
   "outputs": [],
   "source": []
  }
 ],
 "metadata": {
  "kernelspec": {
   "display_name": "Python 3 (ipykernel)",
   "language": "python",
   "name": "python3"
  },
  "language_info": {
   "codemirror_mode": {
    "name": "ipython",
    "version": 3
   },
   "file_extension": ".py",
   "mimetype": "text/x-python",
   "name": "python",
   "nbconvert_exporter": "python",
   "pygments_lexer": "ipython3",
   "version": "3.9.7"
  }
 },
 "nbformat": 4,
 "nbformat_minor": 5
}
