{
 "cells": [
  {
   "cell_type": "code",
   "execution_count": null,
   "id": "4af38c4e",
   "metadata": {},
   "outputs": [],
   "source": []
  },
  {
   "cell_type": "code",
   "execution_count": 8,
   "id": "cbf625a9",
   "metadata": {},
   "outputs": [
    {
     "data": {
      "text/plain": [
       "'this is My First Python programming class and i am learNING python string and its '"
      ]
     },
     "execution_count": 8,
     "metadata": {},
     "output_type": "execute_result"
    }
   ],
   "source": [
    "s"
   ]
  },
  {
   "cell_type": "markdown",
   "id": "56377074",
   "metadata": {},
   "source": [
    "# 1 . Try to extract data from index one to index 300 with a jump of 3"
   ]
  },
  {
   "cell_type": "code",
   "execution_count": 59,
   "id": "8157331c",
   "metadata": {},
   "outputs": [
    {
     "data": {
      "text/plain": [
       "'this is My First Python programming class and i am learNING python string and its '"
      ]
     },
     "execution_count": 59,
     "metadata": {},
     "output_type": "execute_result"
    }
   ],
   "source": [
    "s"
   ]
  },
  {
   "cell_type": "code",
   "execution_count": 10,
   "id": "6363b050",
   "metadata": {},
   "outputs": [
    {
     "data": {
      "text/plain": [
       "'tssyityopgmncsa alrNph rgni '"
      ]
     },
     "execution_count": 10,
     "metadata": {},
     "output_type": "execute_result"
    }
   ],
   "source": [
    "s[0::3]"
   ]
  },
  {
   "cell_type": "markdown",
   "id": "e7df0230",
   "metadata": {},
   "source": [
    "# 2. Try to reverse a string without using reverse function"
   ]
  },
  {
   "cell_type": "code",
   "execution_count": 60,
   "id": "265cdbc4",
   "metadata": {},
   "outputs": [
    {
     "data": {
      "text/plain": [
       "'this is My First Python programming class and i am learNING python string and its '"
      ]
     },
     "execution_count": 60,
     "metadata": {},
     "output_type": "execute_result"
    }
   ],
   "source": [
    "s"
   ]
  },
  {
   "cell_type": "code",
   "execution_count": 11,
   "id": "def3a4d0",
   "metadata": {},
   "outputs": [
    {
     "data": {
      "text/plain": [
       "' sti dna gnirts nohtyp GNINrael ma i dna ssalc gnimmargorp nohtyP tsriF yM si siht'"
      ]
     },
     "execution_count": 11,
     "metadata": {},
     "output_type": "execute_result"
    }
   ],
   "source": [
    "s[::-1]"
   ]
  },
  {
   "cell_type": "markdown",
   "id": "b88a5b71",
   "metadata": {},
   "source": [
    "# 3. Try to split a string after conversion of entire string in uppercase"
   ]
  },
  {
   "cell_type": "code",
   "execution_count": 61,
   "id": "14e569a3",
   "metadata": {},
   "outputs": [
    {
     "data": {
      "text/plain": [
       "'this is My First Python programming class and i am learNING python string and its '"
      ]
     },
     "execution_count": 61,
     "metadata": {},
     "output_type": "execute_result"
    }
   ],
   "source": [
    "s"
   ]
  },
  {
   "cell_type": "code",
   "execution_count": 15,
   "id": "76483d93",
   "metadata": {},
   "outputs": [
    {
     "data": {
      "text/plain": [
       "'THIS IS MY FIRST PYTHON PROGRAMMING CLASS AND I AM LEARNING PYTHON STRING AND ITS '"
      ]
     },
     "execution_count": 15,
     "metadata": {},
     "output_type": "execute_result"
    }
   ],
   "source": [
    "s1 = s.upper()\n",
    "s1"
   ]
  },
  {
   "cell_type": "code",
   "execution_count": 16,
   "id": "fb8f0f21",
   "metadata": {},
   "outputs": [
    {
     "data": {
      "text/plain": [
       "['THIS',\n",
       " 'IS',\n",
       " 'MY',\n",
       " 'FIRST',\n",
       " 'PYTHON',\n",
       " 'PROGRAMMING',\n",
       " 'CLASS',\n",
       " 'AND',\n",
       " 'I',\n",
       " 'AM',\n",
       " 'LEARNING',\n",
       " 'PYTHON',\n",
       " 'STRING',\n",
       " 'AND',\n",
       " 'ITS']"
      ]
     },
     "execution_count": 16,
     "metadata": {},
     "output_type": "execute_result"
    }
   ],
   "source": [
    "s1.split()"
   ]
  },
  {
   "cell_type": "markdown",
   "id": "35866265",
   "metadata": {},
   "source": [
    "# 4. try to convert the whole string into lower case"
   ]
  },
  {
   "cell_type": "code",
   "execution_count": 62,
   "id": "8f90356e",
   "metadata": {},
   "outputs": [
    {
     "data": {
      "text/plain": [
       "'this is My First Python programming class and i am learNING python string and its '"
      ]
     },
     "execution_count": 62,
     "metadata": {},
     "output_type": "execute_result"
    }
   ],
   "source": [
    "s"
   ]
  },
  {
   "cell_type": "code",
   "execution_count": 17,
   "id": "6069e9a7",
   "metadata": {},
   "outputs": [
    {
     "data": {
      "text/plain": [
       "'this is my first python programming class and i am learning python string and its '"
      ]
     },
     "execution_count": 17,
     "metadata": {},
     "output_type": "execute_result"
    }
   ],
   "source": [
    "s.lower()"
   ]
  },
  {
   "cell_type": "markdown",
   "id": "1dd39603",
   "metadata": {},
   "source": [
    "# 5 . Try to capitalize the whole string"
   ]
  },
  {
   "cell_type": "code",
   "execution_count": 18,
   "id": "9ca708f6",
   "metadata": {},
   "outputs": [
    {
     "data": {
      "text/plain": [
       "'this is My First Python programming class and i am learNING python string and its '"
      ]
     },
     "execution_count": 18,
     "metadata": {},
     "output_type": "execute_result"
    }
   ],
   "source": [
    "s"
   ]
  },
  {
   "cell_type": "code",
   "execution_count": 19,
   "id": "95dbdc2a",
   "metadata": {},
   "outputs": [
    {
     "data": {
      "text/plain": [
       "'This is my first python programming class and i am learning python string and its '"
      ]
     },
     "execution_count": 19,
     "metadata": {},
     "output_type": "execute_result"
    }
   ],
   "source": [
    "s.capitalize()"
   ]
  },
  {
   "cell_type": "markdown",
   "id": "b01ab36f",
   "metadata": {},
   "source": [
    "# 6 . Write a diference between isalnum() and isalpha()"
   ]
  },
  {
   "cell_type": "code",
   "execution_count": 33,
   "id": "29e86fa7",
   "metadata": {},
   "outputs": [
    {
     "data": {
      "text/plain": [
       "True"
      ]
     },
     "execution_count": 33,
     "metadata": {},
     "output_type": "execute_result"
    }
   ],
   "source": [
    "s2 = 'ram12345'\n",
    "s2.isalnum()"
   ]
  },
  {
   "cell_type": "code",
   "execution_count": null,
   "id": "698f14c6",
   "metadata": {},
   "outputs": [],
   "source": [
    "isalpha() = isalpha() it is string method used to chek the string contains only alphabets then it will return True\n",
    " otherwise if it contains alphabets ,space ,number it will return False   some examples"
   ]
  },
  {
   "cell_type": "code",
   "execution_count": 28,
   "id": "52c4ef47",
   "metadata": {},
   "outputs": [],
   "source": [
    "s4 = 'ram'"
   ]
  },
  {
   "cell_type": "code",
   "execution_count": 29,
   "id": "2573449a",
   "metadata": {},
   "outputs": [
    {
     "data": {
      "text/plain": [
       "True"
      ]
     },
     "execution_count": 29,
     "metadata": {},
     "output_type": "execute_result"
    }
   ],
   "source": [
    "s4.isalpha()"
   ]
  },
  {
   "cell_type": "code",
   "execution_count": 30,
   "id": "b7fb55f1",
   "metadata": {},
   "outputs": [
    {
     "data": {
      "text/plain": [
       "False"
      ]
     },
     "execution_count": 30,
     "metadata": {},
     "output_type": "execute_result"
    }
   ],
   "source": [
    "s.isalpha()"
   ]
  },
  {
   "cell_type": "code",
   "execution_count": 31,
   "id": "925dc53d",
   "metadata": {},
   "outputs": [
    {
     "data": {
      "text/plain": [
       "False"
      ]
     },
     "execution_count": 31,
     "metadata": {},
     "output_type": "execute_result"
    }
   ],
   "source": [
    "s3.isalpha()"
   ]
  },
  {
   "cell_type": "markdown",
   "id": "1b563009",
   "metadata": {},
   "source": [
    "# 7. Try to give an example of expand tab"
   ]
  },
  {
   "cell_type": "code",
   "execution_count": 47,
   "id": "b7626304",
   "metadata": {},
   "outputs": [],
   "source": [
    "s5 = \"college\\tbus\\tpen\""
   ]
  },
  {
   "cell_type": "code",
   "execution_count": 48,
   "id": "dcf45595",
   "metadata": {},
   "outputs": [
    {
     "data": {
      "text/plain": [
       "'college bus     pen'"
      ]
     },
     "execution_count": 48,
     "metadata": {},
     "output_type": "execute_result"
    }
   ],
   "source": [
    "s5.expandtabs()"
   ]
  },
  {
   "cell_type": "markdown",
   "id": "82b40418",
   "metadata": {},
   "source": [
    "# 8 . Give an example of strip , lstrip and rstrip"
   ]
  },
  {
   "cell_type": "code",
   "execution_count": null,
   "id": "dddd8ede",
   "metadata": {},
   "outputs": [],
   "source": [
    "Strip = strip is used to remove white space in string\n",
    "lstrip = lstrip is used to remove left side white space\n",
    "rstrip = rstip is used to remove right side white space"
   ]
  },
  {
   "cell_type": "code",
   "execution_count": 50,
   "id": "48de758f",
   "metadata": {},
   "outputs": [
    {
     "data": {
      "text/plain": [
       "'ram'"
      ]
     },
     "execution_count": 50,
     "metadata": {},
     "output_type": "execute_result"
    }
   ],
   "source": [
    "s6 = \" ram \"\n",
    "s6.strip()"
   ]
  },
  {
   "cell_type": "code",
   "execution_count": 51,
   "id": "a994cf66",
   "metadata": {},
   "outputs": [
    {
     "data": {
      "text/plain": [
       "'ram '"
      ]
     },
     "execution_count": 51,
     "metadata": {},
     "output_type": "execute_result"
    }
   ],
   "source": [
    "s6.lstrip()"
   ]
  },
  {
   "cell_type": "code",
   "execution_count": 52,
   "id": "d8ed2cdd",
   "metadata": {},
   "outputs": [
    {
     "data": {
      "text/plain": [
       "' ram'"
      ]
     },
     "execution_count": 52,
     "metadata": {},
     "output_type": "execute_result"
    }
   ],
   "source": [
    "s6.rstrip()"
   ]
  },
  {
   "cell_type": "markdown",
   "id": "ff0ddb75",
   "metadata": {},
   "source": [
    "# 9. Replace a string charecter by another charector by taking your own example \"sudhanshu\""
   ]
  },
  {
   "cell_type": "code",
   "execution_count": null,
   "id": "9b2f863b",
   "metadata": {},
   "outputs": [],
   "source": [
    "Replace = repalce is used to rplace a character in string by another character"
   ]
  },
  {
   "cell_type": "code",
   "execution_count": 55,
   "id": "6e78c4c7",
   "metadata": {},
   "outputs": [],
   "source": [
    "s7 = \"sudhanshu\""
   ]
  },
  {
   "cell_type": "code",
   "execution_count": 56,
   "id": "705fd8b0",
   "metadata": {},
   "outputs": [
    {
     "data": {
      "text/plain": [
       "'suthanshu'"
      ]
     },
     "execution_count": 56,
     "metadata": {},
     "output_type": "execute_result"
    }
   ],
   "source": [
    "s7.replace(\"d\",\"t\")"
   ]
  },
  {
   "cell_type": "markdown",
   "id": "f2bc2e0e",
   "metadata": {},
   "source": [
    "# 10 . Try to give a defination of string center function with and exmple"
   ]
  },
  {
   "cell_type": "code",
   "execution_count": null,
   "id": "79c7b822",
   "metadata": {},
   "outputs": [],
   "source": [
    "Center = center is string method it is used to center the string "
   ]
  },
  {
   "cell_type": "code",
   "execution_count": 57,
   "id": "04c2311c",
   "metadata": {},
   "outputs": [],
   "source": [
    "s8 = \"sunday\""
   ]
  },
  {
   "cell_type": "code",
   "execution_count": 58,
   "id": "450cab6f",
   "metadata": {},
   "outputs": [
    {
     "data": {
      "text/plain": [
       "'-------sunday-------'"
      ]
     },
     "execution_count": 58,
     "metadata": {},
     "output_type": "execute_result"
    }
   ],
   "source": [
    "s8.center(20,\"-\")"
   ]
  },
  {
   "cell_type": "markdown",
   "id": "e4978cb6",
   "metadata": {},
   "source": [
    "# 11 . Write your own definition of compiler and interpretor without copy paste form inte"
   ]
  },
  {
   "cell_type": "code",
   "execution_count": null,
   "id": "68efcc10",
   "metadata": {},
   "outputs": [],
   "source": [
    "Compiler = compiler is used to execute entire code at(single) a time"
   ]
  },
  {
   "cell_type": "code",
   "execution_count": null,
   "id": "1b9af2eb",
   "metadata": {},
   "outputs": [],
   "source": [
    "interpretor = interpretor is used to execute code line by line "
   ]
  },
  {
   "cell_type": "markdown",
   "id": "fb4d932b",
   "metadata": {},
   "source": [
    "# 12 . Python is a interpreted of compiled language give a clear ans with your understand"
   ]
  },
  {
   "cell_type": "code",
   "execution_count": null,
   "id": "243d0f0c",
   "metadata": {},
   "outputs": [],
   "source": [
    "Python is a interpreted language it convert source code to direct machien code by using interpretor"
   ]
  },
  {
   "cell_type": "code",
   "execution_count": null,
   "id": "a412c364",
   "metadata": {},
   "outputs": [],
   "source": []
  },
  {
   "cell_type": "markdown",
   "id": "bd7f29ed",
   "metadata": {},
   "source": [
    "# 13 . Try to write a usecase of python with your understanding"
   ]
  },
  {
   "cell_type": "code",
   "execution_count": null,
   "id": "7daf084e",
   "metadata": {},
   "outputs": [],
   "source": [
    "Uses of python :\n",
    "    1. web development\n",
    "    2. Game development\n",
    "    3. Software development\n",
    "    4. Data science\n",
    "    5. Machine Learning"
   ]
  }
 ],
 "metadata": {
  "kernelspec": {
   "display_name": "Python 3 (ipykernel)",
   "language": "python",
   "name": "python3"
  },
  "language_info": {
   "codemirror_mode": {
    "name": "ipython",
    "version": 3
   },
   "file_extension": ".py",
   "mimetype": "text/x-python",
   "name": "python",
   "nbconvert_exporter": "python",
   "pygments_lexer": "ipython3",
   "version": "3.9.7"
  }
 },
 "nbformat": 4,
 "nbformat_minor": 5
}
