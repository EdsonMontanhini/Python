{
 "cells": [
  {
   "cell_type": "markdown",
   "id": "209cce44",
   "metadata": {},
   "source": [
    "###                                                                 Dharavath Ramdas\n",
    "    Github link: https://github.com/dharavathramdas101\n",
    "    linkedin link: https://www.linkedin.com/in/dharavath-ramdas-a283aa213/"
   ]
  },
  {
   "cell_type": "markdown",
   "id": "b3c7028a",
   "metadata": {},
   "source": [
    "# Random module\n",
    "    python user wants to generate random number use random module"
   ]
  },
  {
   "cell_type": "markdown",
   "id": "9a90375a",
   "metadata": {},
   "source": [
    "### import random module"
   ]
  },
  {
   "cell_type": "code",
   "execution_count": 6,
   "id": "3373fff7",
   "metadata": {},
   "outputs": [],
   "source": [
    "import random"
   ]
  },
  {
   "cell_type": "markdown",
   "id": "93e81872",
   "metadata": {},
   "source": [
    "## 1.random.random()\n",
    "    generates a random number between 0.0 to 1.0\n",
    "    random float value"
   ]
  },
  {
   "cell_type": "code",
   "execution_count": 4,
   "id": "95d60e08",
   "metadata": {},
   "outputs": [
    {
     "data": {
      "text/plain": [
       "0.4845209432286386"
      ]
     },
     "execution_count": 4,
     "metadata": {},
     "output_type": "execute_result"
    }
   ],
   "source": [
    "random.random()"
   ]
  },
  {
   "cell_type": "markdown",
   "id": "80c2d428",
   "metadata": {},
   "source": [
    "## 2.random.randint(start,end)\n",
    "    generate a random integer value \n",
    "    generate a random number between the specified number and also specifie value"
   ]
  },
  {
   "cell_type": "code",
   "execution_count": 7,
   "id": "abb92c96",
   "metadata": {},
   "outputs": [
    {
     "data": {
      "text/plain": [
       "2"
      ]
     },
     "execution_count": 7,
     "metadata": {},
     "output_type": "execute_result"
    }
   ],
   "source": [
    "random.randint(1,10)"
   ]
  },
  {
   "cell_type": "markdown",
   "id": "fb79be11",
   "metadata": {},
   "source": [
    "## 3.random.randrange(start,end,step)\n",
    "    generate random value but not include last number\n",
    "    "
   ]
  },
  {
   "cell_type": "code",
   "execution_count": 9,
   "id": "aa1c91b5",
   "metadata": {},
   "outputs": [
    {
     "data": {
      "text/plain": [
       "5"
      ]
     },
     "execution_count": 9,
     "metadata": {},
     "output_type": "execute_result"
    }
   ],
   "source": [
    "random.randrange(1,7)"
   ]
  },
  {
   "cell_type": "code",
   "execution_count": 11,
   "id": "471d3572",
   "metadata": {},
   "outputs": [
    {
     "data": {
      "text/plain": [
       "3"
      ]
     },
     "execution_count": 11,
     "metadata": {},
     "output_type": "execute_result"
    }
   ],
   "source": [
    "random.randrange(1,6,2)"
   ]
  },
  {
   "cell_type": "markdown",
   "id": "a71a922a",
   "metadata": {},
   "source": [
    "## 4.random.choice()\n",
    "    it will pickup a random element from a iterable sequential object like list, tuple, string"
   ]
  },
  {
   "cell_type": "code",
   "execution_count": 12,
   "id": "d23974cd",
   "metadata": {},
   "outputs": [
    {
     "data": {
      "text/plain": [
       "'rahul'"
      ]
     },
     "execution_count": 12,
     "metadata": {},
     "output_type": "execute_result"
    }
   ],
   "source": [
    "obj = ['ram','rahul','das','suman']\n",
    "random.choice(obj)"
   ]
  },
  {
   "cell_type": "code",
   "execution_count": 13,
   "id": "5b0f264d",
   "metadata": {},
   "outputs": [
    {
     "data": {
      "text/plain": [
       "'m'"
      ]
     },
     "execution_count": 13,
     "metadata": {},
     "output_type": "execute_result"
    }
   ],
   "source": [
    "obj1 = \"hellowellcometomyworld\"\n",
    "random.choice(obj1)"
   ]
  },
  {
   "cell_type": "markdown",
   "id": "8c02460c",
   "metadata": {},
   "source": [
    "## 5.random.shuffle()\n",
    "    this method is used to shuffle a sequence (list) . shuffling means changing the possition of the elements of the sequence"
   ]
  },
  {
   "cell_type": "code",
   "execution_count": 16,
   "id": "7b358c34",
   "metadata": {},
   "outputs": [
    {
     "name": "stdout",
     "output_type": "stream",
     "text": [
      "['d', 'b', 'c', 'a', 'e']\n"
     ]
    }
   ],
   "source": [
    "list1 = [\"a\",\"b\",\"c\",\"d\",\"e\"]\n",
    "random.shuffle(list1)\n",
    "print(list1)"
   ]
  },
  {
   "cell_type": "code",
   "execution_count": null,
   "id": "0c04dd7a",
   "metadata": {},
   "outputs": [],
   "source": []
  }
 ],
 "metadata": {
  "kernelspec": {
   "display_name": "Python 3 (ipykernel)",
   "language": "python",
   "name": "python3"
  },
  "language_info": {
   "codemirror_mode": {
    "name": "ipython",
    "version": 3
   },
   "file_extension": ".py",
   "mimetype": "text/x-python",
   "name": "python",
   "nbconvert_exporter": "python",
   "pygments_lexer": "ipython3",
   "version": "3.9.7"
  }
 },
 "nbformat": 4,
 "nbformat_minor": 5
}
